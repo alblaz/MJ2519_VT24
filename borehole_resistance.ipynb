{
 "cells": [
  {
   "cell_type": "markdown",
   "metadata": {},
   "source": [
    "If you run the code on google colab uncomment you need to run the line below. If you launch the notebook from myBinder.org this will not be necessary."
   ]
  },
  {
   "cell_type": "code",
   "execution_count": 324,
   "metadata": {},
   "outputs": [],
   "source": [
    "# !pip install pygfunction matplotlib numpy scipy SecondaryCoolantProps  CoolProp"
   ]
  },
  {
   "cell_type": "markdown",
   "metadata": {},
   "source": [
    "# Borehole resistance computation"
   ]
  },
  {
   "cell_type": "markdown",
   "metadata": {},
   "source": [
    "<img src=\"./resources/figure_borehole_configuration.png\" width=\"320\" />"
   ]
  },
  {
   "cell_type": "code",
   "execution_count": 344,
   "metadata": {},
   "outputs": [],
   "source": [
    "# Base configuration data\n",
    "\n",
    "# Ground properties \n",
    "rho_ground = 2600    #kg/m^3         #density\n",
    "cp_ground  = 800     # J /(kg K)     #specific heat capacity\n",
    "k_ground   = 3.2     #W/(m K)        #conductivity    \n",
    "T_0   =  9          # C             #undisturbed ground temperature \n",
    "\n",
    "# Borehole configuration (water&Ethanol 20% mixture)\n",
    "r_b = 0.06    #m             #borehole radius\n",
    "k_grout = 1.2 #W/(mK).       #Grout conductivity\n",
    "k_pipe = 0.33 #W/(mK).       #Pipe conductivity\n",
    "s = 0.065     #m             #distance between pipe center (assuming symmetric configuration)   \n",
    "D_i = 0.042   #m             #internal pipe diameter (assuming symmetric configuration)   \n",
    "D_o = 0.048   #m             #outer pipe diameter (assuming symmetric configuration)   \n",
    "H =   150     #m             #borehole length. \n",
    "\n",
    "# Design mass flow rate\n",
    "mb  = 0.5\t# kg/s"
   ]
  },
  {
   "cell_type": "markdown",
   "metadata": {},
   "source": [
    "## Fluid Properties \n",
    "\n",
    "We can use CoolProp to evaluate the secondary fluid properties \n",
    "\n",
    "we are interested in density, specific heat capacity, conductivity, dynamic viscosity and freezing point. Reference to properties names in CoolProp can be found at http://coolprop.org/coolprop/HighLevelAPI.html#table-of-string-inputs-to-propssi-function\n",
    "\n",
    "The secondary fluid circulating is usually a binary mixture. Reference to Incompressible binary mixtures names available in CoolProp can be found at http://www.coolprop.org/fluid_properties/Incompressibles.html\n",
    "\n",
    "Fluids that could be used are:\n",
    "- MEA2 : Melinder, Ethanol\n",
    "- MEG2: Melinder, Ethylene Glycol\n",
    "- MPG2: Melinder, Propylene Glycol\n",
    "\n",
    "The fluid could be also water if it is certain that the temperature will not drop below zero (causing freezing). This is never the case for application involving heat extraction in Sweden.\n",
    "\n",
    "The base case configuration consider a water and Ethanol 20% mixture."
   ]
  },
  {
   "cell_type": "code",
   "execution_count": 345,
   "metadata": {},
   "outputs": [
    {
     "name": "stdout",
     "output_type": "stream",
     "text": [
      "Tfreeze = -11.118921788700447 °C\n",
      "Tref = 0.0 °C\n",
      "cp_fluid = 4369.391286393766 J/(kg K)\n",
      "rho_fluid = 975.7653865139208 kg/m^3\n",
      "mu_fluid = 0.005249271348515964 Pa s\n",
      "k_fluid = 0.44781845764681294 W/(m K) \n"
     ]
    }
   ],
   "source": [
    "from CoolProp.CoolProp import PropsSI\n",
    "\n",
    "Tref = 0 + 273.15\n",
    "secondaryfluid = 'INCOMP::MEA-20%'\n",
    "\n",
    "T_freeze = PropsSI('T_freeze',secondaryfluid)\n",
    "cp_fluid  = PropsSI('C','T',Tref,'P',101325,secondaryfluid)  #specific heat \n",
    "rho_fluid = PropsSI('D','T',Tref,'P',101325,secondaryfluid)\n",
    "mu_fluid  = PropsSI('viscosity','T',Tref,'P',101325,secondaryfluid)\n",
    "k_fluid  = PropsSI('conductivity','T',Tref,'P',101325,secondaryfluid)\n",
    "\n",
    "print(f'Tfreeze = {T_freeze - 273.15} °C')\n",
    "print(f'Tref = {Tref - 273.15} °C')\n",
    "print(f'cp_fluid = {cp_fluid} J/(kg K)')\n",
    "print(f'rho_fluid = {rho_fluid} kg/m^3')\n",
    "print(f'mu_fluid = {mu_fluid} Pa s')\n",
    "print(f'k_fluid = {k_fluid} W/(m K) ')\n",
    "\n"
   ]
  },
  {
   "cell_type": "markdown",
   "metadata": {},
   "source": [
    "### Fluid to grout resistance \n",
    "To evaluate cross-section resistances Rb and Ra we first need to evaluate the resistance between the fluid circulating in the two pipes and the pipe grouting material.\n",
    "\n",
    "$$R_p= (R_{cond}+R_{conv})/N_p $$\n",
    "\n",
    "Where $R_{conv}$ is the convective resistance between the fluid and the pipe surface, $R_{cond}$ is the thermal resistance relative to the conduction in the piping material and $N_p$ is the number of pipes in the borehole cross-section.\n"
   ]
  },
  {
   "cell_type": "markdown",
   "metadata": {},
   "source": [
    "### Conductive resistance\n",
    "The conductive resistance in the pipe can be evaluated with the following formula which considers radial conduction in a cylindrical wall, with inner radius r_i and outer radius r_o.\n",
    "$$R_{cond} = \\frac{1}{2 \\pi k_{pipe}  } \\, \\ln⁡(r_o/r_i )$$\n"
   ]
  },
  {
   "cell_type": "markdown",
   "metadata": {},
   "source": [
    "### Convective resistance\n",
    "The convective resistance for pipe flow is equal to  $R_{conv}= \\frac{1}{2πr_i h_i  }$ where $h_i$ is the heat transfer coefficient between the fluid and the pipe wall. The heat transfer coefficient is a function of the Nusselt number, the radius $r_i$ and the conductivity  $k_f$.\n",
    "\n",
    "$$h_i=\\frac{\\text{Nu} \\; k_f}{2 \\,r_i  }$$\n",
    "\n",
    "The Nusselt number is a function of Reynolds and Prandtl numbers defined as follow.\n",
    "\n",
    "$\\text{Re} =(\\rho \\,v \\,2r_i)/\\mu$ \t\n",
    "\n",
    "$\\text{Pr} =(\\mu \\,c_{p_f} )/(2r_i)$\n",
    "\n",
    "With $\\mu$ and $c_{p_f}$ the dynamic viscosity and the specific heat capacity of the fluid. The Reynolds number determines the flow regime based which could be Laminar Flow, Turbulent Flow or Transition region. In literature we can find the correlations belows for Nu(Re,Pr) \n"
   ]
  },
  {
   "cell_type": "markdown",
   "metadata": {},
   "source": [
    "<img src=\"./resources/formulas_flow_in_pipe.png\" width=\"800\" />"
   ]
  },
  {
   "cell_type": "code",
   "execution_count": 346,
   "metadata": {},
   "outputs": [],
   "source": [
    "import math\n",
    "\n",
    "def evaluate_nusselt(Re, Pr, mode=\"heating\"):\n",
    "    if Re < 2300:\n",
    "        Nu = 3.66\n",
    "    elif 2300 <= Re < 10000:\n",
    "        f = (1.58 * math.log(Re) - 3.28) ** (-2)\n",
    "        Nu = (0.5 * f * (Re - 1000.) * Pr) / (1 + 12.7 * math.sqrt(0.5 * f) * (Pr**(2/3) - 1))\n",
    "    else:\n",
    "        n = 0.3 if mode == \"heating\" else 0.4\n",
    "        Nu = 0.023 * Re**0.8 * Pr**n\n",
    "    return Nu"
   ]
  },
  {
   "cell_type": "markdown",
   "metadata": {},
   "source": [
    "### Computation of section Borehole Resistances\n",
    "\n",
    "\n",
    "$$ \n",
    "R_b = \\frac{1}{4 π k_g } \\left[\\beta + \\ln⁡\\left(\\frac{\\theta_2}{2\\theta_1 (1 -\\theta_1^4)^σ }\\right) \n",
    "- \\frac{(\\theta_3^2 (1 -(4\\sigma \\theta_1^4)/(1 -\\theta_1^4 ))^2}{ \\frac{(1+\\beta)}{(1-\\beta)}+\\theta_3^2 (1+\\frac{16\\sigma \\theta_1^4)}{(1 - \\theta_1^4)^2} }  \\right]\n",
    "$$\n",
    "\n",
    "\n",
    "$$ \n",
    "R_a = \\frac{1}{π k_g } \\left[β+ \\ln⁡ \\left( \\frac{(1+\\theta_1^2)^\\sigma}{\\theta_3 (1 -\\theta_1^2)^\\sigma } \\right) - \n",
    "\\frac{θ_3^2 (1 -θ_1^4  +4σθ_1^2 )^2}{\\frac{1+β}{1-β} \\, (1 -θ_1^4)^2  + θ_3^2 (1 -θ_1^4)^2  + 8σθ_1^2 θ_3^2 (1+θ_1^4)} \\right]\n",
    "$$\n",
    "\n",
    "\n",
    "Where the parameters $θ_1$, $θ_2$, $θ_3$, $σ$, $β$ are defined as follows\n",
    "\n",
    "**Geometrical parameters:** \n",
    "\n",
    "$ θ_1=s/(2 r_b )  \\qquad θ_2=r_b/r_{po}  \\qquad θ_3=r_{po}/s=1/(2 θ_1 θ_2 )$\n",
    "\n",
    "**Thermal parameters:**  \n",
    "\n",
    "$σ=(λ_g-λ)/(λ_g+λ)\t \\qquad β=2πλ_g R_p$\n"
   ]
  },
  {
   "cell_type": "markdown",
   "metadata": {},
   "source": []
  },
  {
   "cell_type": "markdown",
   "metadata": {},
   "source": [
    "### Effective Borehole Resistance\n",
    "\n",
    "$\\large \\eta = \\frac{H}{\\dot{m} \\, c_p \\sqrt{(R_a \\, R_b )}}$\n",
    "\n",
    "$R_b^{\\star} = R_b \\, η \\, coth⁡(η)$"
   ]
  },
  {
   "cell_type": "code",
   "execution_count": 347,
   "metadata": {},
   "outputs": [],
   "source": [
    "def cross_section_Rb(θ1, θ2, θ3, σ, β, kgrout):\n",
    "    M0 = β + math.log(θ2 / (2 * θ1 * (1 - θ1**4)**σ))\n",
    "    M1 = θ3**2 * (1 - 4 * σ * θ1**4 / (1 - θ1**4))**2 / ((1 + β) / (1 - β) + θ3**2 * (1 + 16 * σ * θ1**4 / (1 - θ1**4)**2))\n",
    "    return 1 / (4 * math.pi * kgrout) * (M0 - M1)#, M0, M1\n",
    "\n",
    "def cross_section_Ra(θ1, θ2, θ3, σ, β, kgrout):\n",
    "    M0 = β + math.log((1 + θ1**2)**σ / (θ3 * (1 - θ1**2)**σ))\n",
    "    M1 = θ3**2 * (1 - θ1**4 + 4 * σ * θ1**2)**2 / ((1 + β) / (1 - β) * (1 - θ1**4)**2 + θ3**2 * (1 - θ1**4)**2 + 8 * σ * θ1**2 * θ3**2 * (1 + θ1**4))\n",
    "    return 1 / (math.pi * kgrout) * (M0 - M1)#, M0, M1"
   ]
  },
  {
   "cell_type": "markdown",
   "metadata": {},
   "source": [
    "###  Computation\n",
    "Here we compute the resistances for one set of geometrical, thermophysical and hydraulic parameters"
   ]
  },
  {
   "cell_type": "code",
   "execution_count": 348,
   "metadata": {},
   "outputs": [
    {
     "name": "stdout",
     "output_type": "stream",
     "text": [
      "Reynolds = 2887.5652679080513 \n",
      "\n",
      "Rconv = 0.007707539159318089 (m K)/W\n",
      "Rcond = 0.0644005490731437 (m K)/W\n",
      "Ra = 0.26726383896126654 (m K)/W\n",
      "Rb = 0.0644182396823886 (m K)/W\n",
      "Rbstar = 0.07019312269363889 (m K)/W\n"
     ]
    }
   ],
   "source": [
    "import numpy as np\n",
    "\n",
    "r_i = D_i/2   # internal pipe radius\n",
    "r_o = D_o/2   # outer pipe radius\n",
    "\n",
    "w = mb/(rho_fluid *math.pi*r_i**2)    # secondary fluid velocity\n",
    "Re = rho_fluid * w * 2*r_i/ mu_fluid  # Reynolds number\n",
    "Pr = mu_fluid * cp_fluid/(2*r_i)      # Prandtl number\n",
    "\t\n",
    "Nu = evaluate_nusselt(Re,Pr)          # Nusselt\n",
    "h_i = Nu*k_fluid/(2*r_i)              # fluid pipe heat transfer coefficient \n",
    "\n",
    "Rconv = 1/(2*math.pi *r_i*h_i)        # convection resistance\n",
    "Rcond = 1/(2*math.pi *k_pipe) * math.log(r_o/r_i)   # conduction resistance§\n",
    "Rp = (Rcond + Rconv)/2   \n",
    "\n",
    "θ1 = s/(2*r_b)    # geometrical parameters\n",
    "θ2 = r_b/r_o\n",
    "θ3 = r_o/s\n",
    "\n",
    "σ  = (k_grout - k_ground)/(k_grout + k_ground)     # \n",
    "β  = 2*math.pi  * k_grout * Rp \n",
    "\n",
    "Rb = cross_section_Rb(θ1, θ2, θ3, σ, β, k_grout)\n",
    "Ra = cross_section_Ra(θ1, θ2, θ3, σ, β, k_grout)\n",
    "\n",
    "η = H/(mb*cp_fluid*math.sqrt(Ra*Rb))\n",
    "Rbstar =  Rb * η * 1/np.tanh(η)\n",
    "\n",
    "print(f'Reynolds = {Re} \\n' )\n",
    "\n",
    "print(f'Rconv = {Rconv} (m K)/W')\n",
    "print(f'Rcond = {Rcond} (m K)/W')\n",
    "print(f'Ra = {Ra} (m K)/W')\n",
    "print(f'Rb = {Rb} (m K)/W')\n",
    "print(f'Rbstar = {Rbstar} (m K)/W')\n"
   ]
  },
  {
   "cell_type": "markdown",
   "metadata": {},
   "source": [
    "###  Computation over a range of parameters\n",
    "To compute the resistances for sets of geometrical, thermophysical and hydraulic parameters exploring range of mass flows and borehole length is convenient to define a function call it for over the ranges of parameters"
   ]
  },
  {
   "cell_type": "code",
   "execution_count": 349,
   "metadata": {},
   "outputs": [],
   "source": [
    "def compute_resistances(mb, H):\n",
    "    w = mb / (rho_fluid * math.pi * r_i**2)\n",
    "    Re = rho_fluid * w * 2 * r_i / mu_fluid \n",
    "    Pr = mu_fluid * cp_fluid / (2 * r_i)\n",
    "\t\n",
    "    Nu = evaluate_nusselt(Re, Pr)\n",
    "    hi = Nu * k_fluid / (2 * r_i)\n",
    "\n",
    "    Rconv = 1 / (2 * math.pi * r_i * hi) \n",
    "    Rcond = 1 / (2 * math.pi * k_pipe) * math.log(r_o / r_i)\n",
    "    Rp = (Rcond + Rconv) / 2   \n",
    "\n",
    "    θ1 = s / (2 * r_b)\n",
    "    θ2 = r_b / r_o\n",
    "    θ3 = r_o / s\n",
    "\n",
    "    σ  = (k_grout - k_ground) / (k_grout + k_ground)\n",
    "    β  = 2 * math.pi * k_grout * Rp \n",
    "\n",
    "    Rb = cross_section_Rb(θ1, θ2, θ3, σ, β, k_grout)\n",
    "    Ra = cross_section_Ra(θ1, θ2, θ3, σ, β, k_grout)\n",
    "\n",
    "    η = H / (mb * cp_fluid * math.sqrt(Ra * Rb))\n",
    "    Rbstar =  Rb * η * (1 / math.tanh(η))\n",
    "    return Rbstar"
   ]
  },
  {
   "cell_type": "code",
   "execution_count": 350,
   "metadata": {},
   "outputs": [],
   "source": [
    "import numpy as np\n",
    "\n",
    "# Define ranges for m and H\n",
    "m_range = np.arange(0.2, 1.05, 0.05)\n",
    "H_range = np.arange(100, 401, 50)\n",
    "\n",
    "# Initialize an empty list to store results\n",
    "Rbstar_matrix = []\n",
    "\n",
    "# Iterate over m and H values and compute resistances\n",
    "for m in m_range:\n",
    "    row = []\n",
    "    for H in H_range:\n",
    "        row.append(compute_resistances(m, H))\n",
    "    Rbstar_matrix.append(row)\n",
    "\n",
    "# Convert the list to a numpy array\n",
    "Rbstar_matrix = np.array(Rbstar_matrix)"
   ]
  },
  {
   "cell_type": "markdown",
   "metadata": {},
   "source": [
    "We can then make some plots"
   ]
  },
  {
   "cell_type": "code",
   "execution_count": 351,
   "metadata": {},
   "outputs": [],
   "source": [
    "import numpy as np\n",
    "\n",
    "# Define ranges for m and H\n",
    "m_range = np.arange(0.2, 1.05, 0.05)\n",
    "H_range = np.arange(100, 401, 50)\n",
    "\n",
    "# Preallocate the matrix with zeros\n",
    "rows = len(m_range)\n",
    "cols = len(H_range)\n",
    "Rbstar_matrix = np.zeros((rows, cols))\n",
    "\n",
    "# Iterate over m and H values and compute resistances\n",
    "for i, m in enumerate(m_range):\n",
    "    for j, H in enumerate(H_range):\n",
    "        Rbstar_matrix[i, j] = compute_resistances(m, H)"
   ]
  },
  {
   "cell_type": "code",
   "execution_count": 352,
   "metadata": {},
   "outputs": [
    {
     "data": {
      "image/png": "[encoded data removed]",
      "text/plain": [
       "<Figure size 640x480 with 1 Axes>"
      ]
     },
     "metadata": {},
     "output_type": "display_data"
    }
   ],
   "source": [
    "import numpy as np\n",
    "import matplotlib.pyplot as plt\n",
    "\n",
    "fig, (ax1) = plt.subplots(1, 1)\n",
    "cmap = plt.cm.RdBu\n",
    "\n",
    "# Plot each line with a different color based on its index\n",
    "for i in range(len(H_range)):\n",
    "    color = cmap(H_range[i]/H_range[-1] )  # Get color from the colormap based on index\n",
    "    ax1.plot(m_range, Rbstar_matrix[:,i], color=color)\n",
    "\n",
    "ax1.set_xlabel('mass flow rate (kg/s)')\n",
    "ax1.set_ylabel('Rb star  (m K / W)')\n",
    "\n",
    "# Show plot\n",
    "plt.show()\n"
   ]
  }
 ],
 "metadata": {
  "kernelspec": {
   "display_name": "pygfun",
   "language": "python",
   "name": "python3"
  },
  "language_info": {
   "codemirror_mode": {
    "name": "ipython",
    "version": 3
   },
   "file_extension": ".py",
   "mimetype": "text/x-python",
   "name": "python",
   "nbconvert_exporter": "python",
   "pygments_lexer": "ipython3",
   "version": "3.12.0"
  }
 },
 "nbformat": 4,
 "nbformat_minor": 2
}
